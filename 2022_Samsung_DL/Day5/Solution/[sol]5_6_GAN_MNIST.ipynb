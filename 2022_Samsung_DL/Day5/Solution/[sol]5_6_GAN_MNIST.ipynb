{
 "cells": [
  {
   "cell_type": "markdown",
   "metadata": {
    "id": "nG8cPVQ5cxRk"
   },
   "source": [
    "referenced from https://ws-choi.github.io/blog-kor/seminar/tutorial/mnist/pytorch/gan/GAN-%ED%8A%9C%ED%86%A0%EB%A6%AC%EC%96%BC/"
   ]
  },
  {
   "cell_type": "markdown",
   "metadata": {
    "id": "b0lPjmPuc36V"
   },
   "source": [
    "# Generative Adversarial Network with MNIST dataset"
   ]
  },
  {
   "cell_type": "code",
   "execution_count": 1,
   "metadata": {
    "id": "fGwb0EUictDO"
   },
   "outputs": [],
   "source": [
    "import torch\n",
    "import torch.nn as nn\n",
    "import torch.optim as optim\n",
    "import torchvision.utils as utils\n",
    "import torchvision.datasets as dsets\n",
    "import torchvision.transforms as transforms\n",
    "\n",
    "is_cuda = torch.cuda.is_available()\n",
    "device = torch.device('cuda' if is_cuda else 'cpu')"
   ]
  },
  {
   "cell_type": "code",
   "execution_count": 2,
   "metadata": {
    "colab": {
     "base_uri": "https://localhost:8080/",
     "height": 439,
     "referenced_widgets": [
      "ab38bdb7258d404dab3b2edbae86988a",
      "b35bbce48fac49d9ad500d88de81d757",
      "1ea3d36b7b424549800bd6197c0275ad",
      "83e9edfc647f4200bdb6eaf1e3eab1a5",
      "3fe619c98e8846358e8ff52e7811fc67",
      "694b77cd3aaf4ce3a157bca7369a9965",
      "283356ef474e438284c033126ad1a962",
      "71eae73376d846e6b52b67cfe1bd0c83",
      "44ede5d6e95445718079843e481657d6",
      "6edcce8f76dc4a61a2706d3c5b5f0f7c",
      "663136f283844e3ab43f1a729be5c258",
      "bf00801376bc45e9b5d63e1070bac423",
      "c3b0e7b4aae740398066fadc5982a011",
      "861a7483d33b4313a11875c70345c76a",
      "65d11735874f40aea52a4c3151d5c33b",
      "6ccf4e2608f946c48930f047eb5e3997",
      "b2a4129d9cc944f9bebcdc8e38d12312",
      "ece0b85f804642f4b2292b70e0fdafb6",
      "9e38581417b24995ba7e2f55432890ae",
      "cc09d18c1ec04de99e4ec7497fb5f872",
      "4c73e234c8fb4075a50fcedeb744799f",
      "4f1b73cd22bf40f4a0613fa5f607af4e",
      "0f79a1a91d864ee088e462e0460961d6",
      "7ce8dd08d43c4eda93217b3afdae03a4",
      "87eae40c27cc4b55bcba7154778690a9",
      "664cda1b769142a0bb8d46eea726c9b2",
      "39bee628e81b4b9f88fabfd446b9ba09",
      "409f679cacae4bfc980ae74203ff8423",
      "bba365077c1c4297af0495425990102e",
      "6e27a3c3cfae4f498d4f1a5eb5489d2e",
      "a9763f6896d444ee9c5a07f6661a5418",
      "829cada3779644c8ab789d46e0ebd31f",
      "de2311dec36443c1ac3f49f34d602b48",
      "708630bae00344b2b569ad699821706a",
      "04ac7978d72d4699a3244c2a44e795fb",
      "cf6a811e46044370a6f2936078ff3096",
      "6420492365e94de4899b30cd2cb98d88",
      "8aae688227564c5e9951226d817c7884",
      "ab295badd2cd4425b6c6cbe57dd9c8e7",
      "7564299ae33e46d98d7ef508c5766bc5",
      "e20447cdc0c040b5bf61eb80ef36d810",
      "60a85d3f76d34d6bacefa1aab447e8e3",
      "68fe8d66efb84fd68f893e01567b1604",
      "b85a7b1a6e1a40a78b019470cd501b42"
     ]
    },
    "id": "pWoNJN-rczx5",
    "outputId": "99a4219b-9315-4176-f90c-429a9be8f6e9"
   },
   "outputs": [
    {
     "name": "stdout",
     "output_type": "stream",
     "text": [
      "Downloading http://yann.lecun.com/exdb/mnist/train-images-idx3-ubyte.gz\n",
      "Downloading http://yann.lecun.com/exdb/mnist/train-images-idx3-ubyte.gz to ../dataset/MNIST/raw/train-images-idx3-ubyte.gz\n"
     ]
    },
    {
     "data": {
      "application/vnd.jupyter.widget-view+json": {
       "model_id": "09cb08da6a2e47d98a9b5cc73fcce582",
       "version_major": 2,
       "version_minor": 0
      },
      "text/plain": [
       "  0%|          | 0/9912422 [00:00<?, ?it/s]"
      ]
     },
     "metadata": {},
     "output_type": "display_data"
    },
    {
     "name": "stdout",
     "output_type": "stream",
     "text": [
      "Extracting ../dataset/MNIST/raw/train-images-idx3-ubyte.gz to ../dataset/MNIST/raw\n",
      "\n",
      "Downloading http://yann.lecun.com/exdb/mnist/train-labels-idx1-ubyte.gz\n",
      "Downloading http://yann.lecun.com/exdb/mnist/train-labels-idx1-ubyte.gz to ../dataset/MNIST/raw/train-labels-idx1-ubyte.gz\n"
     ]
    },
    {
     "data": {
      "application/vnd.jupyter.widget-view+json": {
       "model_id": "7485911acb6b45ddb9a1fe48139ccf8c",
       "version_major": 2,
       "version_minor": 0
      },
      "text/plain": [
       "  0%|          | 0/28881 [00:00<?, ?it/s]"
      ]
     },
     "metadata": {},
     "output_type": "display_data"
    },
    {
     "name": "stdout",
     "output_type": "stream",
     "text": [
      "Extracting ../dataset/MNIST/raw/train-labels-idx1-ubyte.gz to ../dataset/MNIST/raw\n",
      "\n",
      "Downloading http://yann.lecun.com/exdb/mnist/t10k-images-idx3-ubyte.gz\n",
      "Downloading http://yann.lecun.com/exdb/mnist/t10k-images-idx3-ubyte.gz to ../dataset/MNIST/raw/t10k-images-idx3-ubyte.gz\n"
     ]
    },
    {
     "data": {
      "application/vnd.jupyter.widget-view+json": {
       "model_id": "debfee748aac47ab80857085ab84ee55",
       "version_major": 2,
       "version_minor": 0
      },
      "text/plain": [
       "  0%|          | 0/1648877 [00:00<?, ?it/s]"
      ]
     },
     "metadata": {},
     "output_type": "display_data"
    },
    {
     "name": "stdout",
     "output_type": "stream",
     "text": [
      "Extracting ../dataset/MNIST/raw/t10k-images-idx3-ubyte.gz to ../dataset/MNIST/raw\n",
      "\n",
      "Downloading http://yann.lecun.com/exdb/mnist/t10k-labels-idx1-ubyte.gz\n",
      "Downloading http://yann.lecun.com/exdb/mnist/t10k-labels-idx1-ubyte.gz to ../dataset/MNIST/raw/t10k-labels-idx1-ubyte.gz\n"
     ]
    },
    {
     "data": {
      "application/vnd.jupyter.widget-view+json": {
       "model_id": "0fde5846faa54039923bdf7ebb65dfbd",
       "version_major": 2,
       "version_minor": 0
      },
      "text/plain": [
       "  0%|          | 0/4542 [00:00<?, ?it/s]"
      ]
     },
     "metadata": {},
     "output_type": "display_data"
    },
    {
     "name": "stdout",
     "output_type": "stream",
     "text": [
      "Extracting ../dataset/MNIST/raw/t10k-labels-idx1-ubyte.gz to ../dataset/MNIST/raw\n",
      "\n"
     ]
    }
   ],
   "source": [
    "# standardization code\n",
    "standardizator = transforms.Compose([\n",
    "                    transforms.ToTensor(),\n",
    "                    transforms.Normalize(mean=(0.5,),   # 3 for RGB channels이나 실제론 gray scale\n",
    "                                         std=(0.5,))])  # 3 for RGB channels이나 실제론 gray scale\n",
    "\n",
    "# MNIST dataset\n",
    "train_data = dsets.MNIST(root='../dataset/', train=True, transform=standardizator, download=True)\n",
    "test_data  = dsets.MNIST(root='../dataset/', train=False, transform=standardizator, download=True)\n",
    "\n",
    "\n",
    "batch_size = 100\n",
    "train_data_loader = torch.utils.data.DataLoader(train_data, batch_size, shuffle=True)\n",
    "test_data_loader  = torch.utils.data.DataLoader(test_data, batch_size, shuffle=True)"
   ]
  },
  {
   "cell_type": "code",
   "execution_count": 3,
   "metadata": {
    "colab": {
     "base_uri": "https://localhost:8080/",
     "height": 137
    },
    "id": "GZo6UO7LdBlE",
    "outputId": "1286e395-e703-458a-d297-49d59418d4c8"
   },
   "outputs": [
    {
     "data": {
      "image/png": "[encoded data removed]",
      "text/plain": [
       "<Figure size 432x288 with 1 Axes>"
      ]
     },
     "metadata": {
      "needs_background": "light"
     },
     "output_type": "display_data"
    }
   ],
   "source": [
    "# Visualization\n",
    "import numpy as np\n",
    "from matplotlib import pyplot as plt\n",
    "\n",
    "def imshow(img):\n",
    "    img = (img+1)/2    \n",
    "    img = img.squeeze()\n",
    "    np_img = img.numpy()\n",
    "    plt.imshow(np_img, cmap='gray')\n",
    "    plt.show()\n",
    "\n",
    "def imshow_grid(img):\n",
    "    img = utils.make_grid(img.cpu().detach())\n",
    "    img = (img+1)/2\n",
    "    npimg = img.numpy()\n",
    "    plt.imshow(np.transpose(npimg, (1,2,0)))\n",
    "    plt.show()\n",
    "\n",
    "example_mini_batch_img, example_mini_batch_label  = next(iter(train_data_loader))\n",
    "imshow_grid(example_mini_batch_img[0:16,:,:])"
   ]
  },
  {
   "cell_type": "code",
   "execution_count": 4,
   "metadata": {
    "colab": {
     "base_uri": "https://localhost:8080/"
    },
    "id": "N_lRHMCIFhXb",
    "outputId": "1366bf20-de61-4fc4-a6b2-c0f38aa470da"
   },
   "outputs": [
    {
     "data": {
      "text/plain": [
       "torch.Size([100, 1, 28, 28])"
      ]
     },
     "execution_count": 4,
     "metadata": {},
     "output_type": "execute_result"
    }
   ],
   "source": [
    "example_mini_batch_img.size()"
   ]
  },
  {
   "cell_type": "code",
   "execution_count": 5,
   "metadata": {
    "id": "Iy1a0QLLdcp6"
   },
   "outputs": [],
   "source": [
    "# Simple Generator\n",
    "d_noise  = 100\n",
    "d_hidden = 256\n",
    "\n",
    "G = nn.Sequential(\n",
    "    nn.Linear(d_noise, d_hidden),\n",
    "    nn.ReLU(),\n",
    "    nn.Dropout(0.1),\n",
    "    nn.Linear(d_hidden,d_hidden),\n",
    "    nn.ReLU(),\n",
    "    nn.Dropout(0.1),\n",
    "    nn.Linear(d_hidden, 28*28),\n",
    "    nn.Tanh()\n",
    ").to(device)"
   ]
  },
  {
   "cell_type": "code",
   "execution_count": 6,
   "metadata": {
    "colab": {
     "base_uri": "https://localhost:8080/",
     "height": 360
    },
    "id": "XJQTCXckdFX5",
    "outputId": "1617e02b-2a09-4c1d-8f47-1d07e62db921"
   },
   "outputs": [
    {
     "data": {
      "image/png": "[encoded data removed]",
      "text/plain": [
       "<Figure size 432x288 with 1 Axes>"
      ]
     },
     "metadata": {
      "needs_background": "light"
     },
     "output_type": "display_data"
    },
    {
     "name": "stdout",
     "output_type": "stream",
     "text": [
      "torch.Size([100, 784])\n"
     ]
    },
    {
     "data": {
      "image/png": "[encoded data removed]",
      "text/plain": [
       "<Figure size 432x288 with 1 Axes>"
      ]
     },
     "metadata": {
      "needs_background": "light"
     },
     "output_type": "display_data"
    }
   ],
   "source": [
    "# Genrate Sample\n",
    "def sample_z(batch_size = 1, d_noise=100):\n",
    "    return torch.randn(batch_size, d_noise, device=device)\n",
    "\n",
    "# 노이즈 생성하기\n",
    "z = sample_z()\n",
    "# 가짜 이미지 생성하기\n",
    "img_fake = G(z).view(-1,28,28)\n",
    "# 이미지 출력하기\n",
    "imshow(img_fake.squeeze().cpu().detach())\n",
    "\n",
    "# Batch SIze만큼 노이즈 생성하여 그리드로 출력하기\n",
    "z = sample_z(batch_size)\n",
    "img_fake = G(z)\n",
    "print(img_fake.size())\n",
    "imshow_grid(img_fake)"
   ]
  },
  {
   "cell_type": "code",
   "execution_count": 7,
   "metadata": {
    "colab": {
     "base_uri": "https://localhost:8080/"
    },
    "id": "H7LcgcfHdw2U",
    "outputId": "36129687-d113-4402-e894-a8b5a2faa7ea"
   },
   "outputs": [
    {
     "name": "stdout",
     "output_type": "stream",
     "text": [
      "torch.Size([100, 784])\n",
      "torch.Size([100, 1])\n",
      "tensor([[0.4844, 0.4828, 0.4857, 0.4882, 0.4846]], device='cuda:0',\n",
      "       grad_fn=<TransposeBackward0>)\n"
     ]
    }
   ],
   "source": [
    "# Simple Discriminator\n",
    "D = nn.Sequential(\n",
    "    nn.Linear(28*28, d_hidden),\n",
    "    nn.LeakyReLU(),\n",
    "    nn.Dropout(0.1),\n",
    "    nn.Linear(d_hidden, d_hidden),\n",
    "    nn.LeakyReLU(),\n",
    "    nn.Dropout(0.1),\n",
    "    nn.Linear(d_hidden, 1),\n",
    "    nn.Sigmoid()\n",
    ").to(device)\n",
    "\n",
    "print(G(z).shape)\n",
    "print(D(G(z)).shape)\n",
    "print(D(G(z)[0:5]).transpose(0,1))"
   ]
  },
  {
   "cell_type": "code",
   "execution_count": null,
   "metadata": {
    "id": "6cPs2cFtIqo6"
   },
   "outputs": [],
   "source": []
  },
  {
   "cell_type": "code",
   "execution_count": 62,
   "metadata": {
    "colab": {
     "base_uri": "https://localhost:8080/"
    },
    "id": "l89kjIXSIqrf",
    "outputId": "7fe39155-c231-41ed-8a0e-2470e1bb37a6"
   },
   "outputs": [
    {
     "name": "stdout",
     "output_type": "stream",
     "text": [
      "torch.Size([100, 784])\n",
      "\n",
      "torch.Size([100, 1])\n",
      "tensor([[0.4685, 0.5335, 0.4905, 0.5045, 0.4626]], device='cuda:0',\n",
      "       grad_fn=<TransposeBackward0>)\n"
     ]
    }
   ],
   "source": [
    "#######################################################\n",
    "##### EXCERCISE: Custom Generator & Discriminator #####\n",
    "#######################################################\n",
    "\n",
    "class Generator(nn.Module):\n",
    "    def __init__(self):\n",
    "        super(Generator, self).__init__()\n",
    "        self.relu = nn.ReLU()\n",
    "        self.tanh = nn.Tanh()\n",
    "        self.deconv1 = nn.ConvTranspose2d(in_channels=100, out_channels=64, kernel_size=4, stride=2, padding=0, bias=False)\n",
    "        self.bn1 = nn.BatchNorm2d(64)\n",
    "        self.deconv2 = nn.ConvTranspose2d(64, 128, 4, 2, 1, bias=False)\n",
    "        self.bn2 = nn.BatchNorm2d(128)\n",
    "        self.deconv3 = nn.ConvTranspose2d(128, 1, 7, 3, 0, bias=False)\n",
    "\n",
    "    def forward(self, x):\n",
    "        # x: (bs, 100) -> (bs, 100, 1, 1)\n",
    "        x = x.view(x.size(0), x.size(1), 1, 1)\n",
    "        # x_1: (bs, 64, 4, 4)\n",
    "        x = self.relu(self.bn1(self.deconv1(x)))\n",
    "        # x_2: (bs, 128, 8, 8)\n",
    "        x = self.relu(self.bn2(self.deconv2(x)))\n",
    "        # x_3: (bs, 1, 28, 28)\n",
    "        x = self.tanh(self.deconv3(x))\n",
    "        # x: (bs, 28*28)\n",
    "        x = x.view(x.size(0), -1)\n",
    "        return x\n",
    "\n",
    "class Discriminator(nn.Module):\n",
    "    def __init__(self):\n",
    "        super(Discriminator, self).__init__()\n",
    "        self.relu = nn.LeakyReLU()\n",
    "        self.conv1 = nn.Conv2d(1, 64, 4, 2, 1, bias=False)\n",
    "        self.bn1 = nn.BatchNorm2d(64)\n",
    "        self.conv2 = nn.Conv2d(64, 64, 4, 2, 1, bias=False)\n",
    "        self.bn2 = nn.BatchNorm2d(64)\n",
    "        self.conv3 = nn.Conv2d(64, 64, 4, 2, 1, bias=False)\n",
    "        self.bn3 = nn.BatchNorm2d(64)\n",
    "        self.gap = nn.AvgPool2d((3,3))\n",
    "\n",
    "        self.fc = nn.Linear(64, 1)\n",
    "        self.sigmoid = nn.Sigmoid()\n",
    "\n",
    "    def forward(self, x):\n",
    "        # x: (bs, 1, 28, 28)\n",
    "        x = x.view(x.size(0), -1, 28, 28)\n",
    "\n",
    "        x = self.relu(self.bn1(self.conv1(x)))\n",
    "        x = self.relu(self.bn2(self.conv2(x)))\n",
    "        x = self.relu(self.bn3(self.conv3(x)))\n",
    "        x = self.gap(x)\n",
    "        # binary classification\n",
    "        x = x.view(x.size(0), -1)\n",
    "        x = self.fc(x)\n",
    "        x = self.sigmoid(x)\n",
    "        return x\n",
    "\n",
    "G = Generator().to(device)\n",
    "D = Discriminator().to(device)\n",
    "print(G(z).shape)\n",
    "print()\n",
    "print(D(G(z)).shape)\n",
    "print(D(G(z)[0:5]).transpose(0,1))"
   ]
  },
  {
   "cell_type": "code",
   "execution_count": 10,
   "metadata": {},
   "outputs": [
    {
     "name": "stdout",
     "output_type": "stream",
     "text": [
      "Collecting torchsummary\n",
      "  Downloading torchsummary-1.5.1-py3-none-any.whl (2.8 kB)\n",
      "Installing collected packages: torchsummary\n",
      "Successfully installed torchsummary-1.5.1\n"
     ]
    }
   ],
   "source": [
    "!pip install torchsummary"
   ]
  },
  {
   "cell_type": "code",
   "execution_count": 63,
   "metadata": {
    "colab": {
     "base_uri": "https://localhost:8080/"
    },
    "id": "71L6-FQE7dvn",
    "outputId": "63693d4b-1481-46a4-c055-dc84833582c9"
   },
   "outputs": [
    {
     "name": "stdout",
     "output_type": "stream",
     "text": [
      "----------------------------------------------------------------\n",
      "        Layer (type)               Output Shape         Param #\n",
      "================================================================\n",
      "   ConvTranspose2d-1             [-1, 64, 4, 4]         102,400\n",
      "       BatchNorm2d-2             [-1, 64, 4, 4]             128\n",
      "              ReLU-3             [-1, 64, 4, 4]               0\n",
      "   ConvTranspose2d-4            [-1, 128, 8, 8]         131,072\n",
      "       BatchNorm2d-5            [-1, 128, 8, 8]             256\n",
      "              ReLU-6            [-1, 128, 8, 8]               0\n",
      "   ConvTranspose2d-7            [-1, 1, 28, 28]           6,272\n",
      "       BatchNorm2d-8            [-1, 1, 28, 28]               2\n",
      "              Tanh-9            [-1, 1, 28, 28]               0\n",
      "================================================================\n",
      "Total params: 240,130\n",
      "Trainable params: 240,130\n",
      "Non-trainable params: 0\n",
      "----------------------------------------------------------------\n",
      "Input size (MB): 0.00\n",
      "Forward/backward pass size (MB): 0.23\n",
      "Params size (MB): 0.92\n",
      "Estimated Total Size (MB): 1.15\n",
      "----------------------------------------------------------------\n",
      "----------------------------------------------------------------\n",
      "        Layer (type)               Output Shape         Param #\n",
      "================================================================\n",
      "            Conv2d-1           [-1, 64, 14, 14]           1,024\n",
      "       BatchNorm2d-2           [-1, 64, 14, 14]             128\n",
      "         LeakyReLU-3           [-1, 64, 14, 14]               0\n",
      "            Conv2d-4             [-1, 64, 7, 7]          65,536\n",
      "       BatchNorm2d-5             [-1, 64, 7, 7]             128\n",
      "         LeakyReLU-6             [-1, 64, 7, 7]               0\n",
      "            Conv2d-7             [-1, 64, 3, 3]          65,536\n",
      "       BatchNorm2d-8             [-1, 64, 3, 3]             128\n",
      "         LeakyReLU-9             [-1, 64, 3, 3]               0\n",
      "        AvgPool2d-10             [-1, 64, 1, 1]               0\n",
      "           Linear-11                    [-1, 1]              65\n",
      "          Sigmoid-12                    [-1, 1]               0\n",
      "================================================================\n",
      "Total params: 132,545\n",
      "Trainable params: 132,545\n",
      "Non-trainable params: 0\n",
      "----------------------------------------------------------------\n",
      "Input size (MB): 0.00\n",
      "Forward/backward pass size (MB): 0.37\n",
      "Params size (MB): 0.51\n",
      "Estimated Total Size (MB): 0.88\n",
      "----------------------------------------------------------------\n"
     ]
    }
   ],
   "source": [
    "from torchsummary import summary\n",
    "summary(G, (100,))\n",
    "\n",
    "summary(D, (28*28,))"
   ]
  },
  {
   "cell_type": "code",
   "execution_count": 64,
   "metadata": {
    "id": "NB0dhC0pdyuW"
   },
   "outputs": [],
   "source": [
    "criterion = nn.BCELoss()\n",
    "\n",
    "def run_epoch(generator, discriminator, _optimizer_g, _optimizer_d):\n",
    "\n",
    "    generator.train()\n",
    "    discriminator.train()\n",
    "\n",
    "    for img_batch, label_batch in train_data_loader:\n",
    "\n",
    "        img_batch, label_batch = img_batch.to(device), label_batch.to(device)\n",
    "\n",
    "        # ================================================  #\n",
    "        # maximize V(discriminator,generator) = optimize discriminator (setting k to be 1)  #\n",
    "        # ================================================  #\n",
    "\n",
    "        # init optimizer\n",
    "        _optimizer_d.zero_grad()\n",
    "\n",
    "        p_real = discriminator(img_batch.view(-1, 28*28))\n",
    "        p_fake = discriminator(generator(sample_z(batch_size, d_noise)))\n",
    "\n",
    "        # ================================================  #\n",
    "        #    Loss computation (soley based on the paper)    #\n",
    "        # ================================================  #\n",
    "        loss_real = -1 * torch.log(p_real)   # -1 for gradient ascending\n",
    "        loss_fake = -1 * torch.log(1.-p_fake) # -1 for gradient ascending\n",
    "        loss_d    = (loss_real + loss_fake).mean()\n",
    "\n",
    "        # ================================================  #\n",
    "        #     Loss computation (based on Cross Entropy)     #\n",
    "        # ================================================  #\n",
    "        # loss_d = criterion(p_real, torch.ones_like(p_real).to(device)) + \\    #\n",
    "        #          criterion(p_fake, torch.zeros_like(p_real).to(device))       #\n",
    "\n",
    "        # Update parameters\n",
    "        loss_d.backward()\n",
    "        _optimizer_d.step()\n",
    "\n",
    "        # ================================================  #\n",
    "        #        minimize V(discriminator,generator)        #\n",
    "        # ================================================  #\n",
    "\n",
    "        # init optimizer\n",
    "        _optimizer_g.zero_grad()\n",
    "\n",
    "        p_fake = discriminator(generator(sample_z(batch_size, d_noise)))\n",
    "\n",
    "        # ================================================  #\n",
    "        #    Loss computation (soley based on the paper)    #\n",
    "        # ================================================  #\n",
    "\n",
    "        # instead of: torch.log(1.-p_fake).mean() <- explained in Section 3\n",
    "        loss_g = -1 * torch.log(p_fake).mean()\n",
    "\n",
    "        # ================================================  #\n",
    "        #     Loss computation (based on Cross Entropy)     #\n",
    "        # ================================================  #\n",
    "        # loss_g = criterion(p_fake, torch.ones_like(p_fake).to(device)) #\n",
    "\n",
    "        loss_g.backward()\n",
    "\n",
    "        # Update parameters\n",
    "        _optimizer_g.step()\n",
    "\n",
    "def evaluate_model(generator, discriminator):\n",
    "\n",
    "    p_real, p_fake = 0.,0.\n",
    "\n",
    "    generator.eval()\n",
    "    discriminator.eval()\n",
    "\n",
    "    for img_batch, label_batch in test_data_loader:\n",
    "\n",
    "        img_batch, label_batch = img_batch.to(device), label_batch.to(device)\n",
    "\n",
    "        with torch.autograd.no_grad():\n",
    "            p_real += (torch.sum(discriminator(img_batch.view(-1, 28*28))).item())/10000.\n",
    "            p_fake += (torch.sum(discriminator(generator(sample_z(batch_size, d_noise)))).item())/10000.\n",
    "\n",
    "\n",
    "    return p_real, p_fake"
   ]
  },
  {
   "cell_type": "code",
   "execution_count": 65,
   "metadata": {
    "colab": {
     "base_uri": "https://localhost:8080/",
     "height": 897
    },
    "id": "bh9USpp6d4Bf",
    "outputId": "de0ee590-55d6-4a69-e8c0-f20289186cd5"
   },
   "outputs": [
    {
     "name": "stdout",
     "output_type": "stream",
     "text": [
      "(epoch 1/50) p_real: 0.359916, p_g: 0.411701\n",
      "(epoch 2/50) p_real: 0.325383, p_g: 0.628414\n",
      "(epoch 3/50) p_real: 0.224873, p_g: 0.247408\n",
      "(epoch 4/50) p_real: 0.145713, p_g: 0.237788\n",
      "(epoch 5/50) p_real: 0.077060, p_g: 0.518752\n",
      "(epoch 6/50) p_real: 0.271903, p_g: 0.858078\n",
      "(epoch 7/50) p_real: 0.283842, p_g: 0.600014\n",
      "(epoch 8/50) p_real: 0.205726, p_g: 0.390471\n",
      "(epoch 9/50) p_real: 0.348798, p_g: 0.404138\n",
      "(epoch 10/50) p_real: 0.503566, p_g: 0.473784\n"
     ]
    },
    {
     "data": {
      "image/png": "[encoded data removed]",
      "text/plain": [
       "<Figure size 432x288 with 1 Axes>"
      ]
     },
     "metadata": {
      "needs_background": "light"
     },
     "output_type": "display_data"
    },
    {
     "name": "stdout",
     "output_type": "stream",
     "text": [
      "(epoch 11/50) p_real: 0.748957, p_g: 0.683484\n",
      "(epoch 12/50) p_real: 0.563777, p_g: 0.143515\n",
      "(epoch 13/50) p_real: 0.401062, p_g: 0.451911\n",
      "(epoch 14/50) p_real: 0.432757, p_g: 0.455857\n",
      "(epoch 15/50) p_real: 0.279773, p_g: 0.333040\n",
      "(epoch 16/50) p_real: 0.338571, p_g: 0.150632\n",
      "(epoch 17/50) p_real: 0.349636, p_g: 0.287672\n",
      "(epoch 18/50) p_real: 0.440347, p_g: 0.720369\n",
      "(epoch 19/50) p_real: 0.418476, p_g: 0.388988\n",
      "(epoch 20/50) p_real: 0.339322, p_g: 0.392764\n"
     ]
    },
    {
     "data": {
      "image/png": "[encoded data removed]",
      "text/plain": [
       "<Figure size 432x288 with 1 Axes>"
      ]
     },
     "metadata": {
      "needs_background": "light"
     },
     "output_type": "display_data"
    },
    {
     "name": "stdout",
     "output_type": "stream",
     "text": [
      "(epoch 21/50) p_real: 0.137660, p_g: 0.147503\n",
      "(epoch 22/50) p_real: 0.370139, p_g: 0.329983\n",
      "(epoch 23/50) p_real: 0.759773, p_g: 0.614165\n",
      "(epoch 24/50) p_real: 0.071817, p_g: 0.081509\n",
      "(epoch 25/50) p_real: 0.575371, p_g: 0.647496\n",
      "(epoch 26/50) p_real: 0.395344, p_g: 0.324569\n",
      "(epoch 27/50) p_real: 0.618634, p_g: 0.458678\n",
      "(epoch 28/50) p_real: 0.444479, p_g: 0.359528\n",
      "(epoch 29/50) p_real: 0.250033, p_g: 0.184818\n",
      "(epoch 30/50) p_real: 0.277435, p_g: 0.241279\n"
     ]
    },
    {
     "data": {
      "image/png": "[encoded data removed]",
      "text/plain": [
       "<Figure size 432x288 with 1 Axes>"
      ]
     },
     "metadata": {
      "needs_background": "light"
     },
     "output_type": "display_data"
    },
    {
     "name": "stdout",
     "output_type": "stream",
     "text": [
      "(epoch 31/50) p_real: 0.331141, p_g: 0.365225\n",
      "(epoch 32/50) p_real: 0.497822, p_g: 0.416541\n",
      "(epoch 33/50) p_real: 0.296241, p_g: 0.248584\n",
      "(epoch 34/50) p_real: 0.404733, p_g: 0.256300\n",
      "(epoch 35/50) p_real: 0.401142, p_g: 0.333751\n",
      "(epoch 36/50) p_real: 0.108576, p_g: 0.096800\n",
      "(epoch 37/50) p_real: 0.674032, p_g: 0.519547\n",
      "(epoch 38/50) p_real: 0.319261, p_g: 0.223379\n",
      "(epoch 39/50) p_real: 0.535349, p_g: 0.427905\n",
      "(epoch 40/50) p_real: 0.212507, p_g: 0.143092\n"
     ]
    },
    {
     "data": {
      "image/png": "[encoded data removed]",
      "text/plain": [
       "<Figure size 432x288 with 1 Axes>"
      ]
     },
     "metadata": {
      "needs_background": "light"
     },
     "output_type": "display_data"
    },
    {
     "name": "stdout",
     "output_type": "stream",
     "text": [
      "(epoch 41/50) p_real: 0.475224, p_g: 0.336908\n",
      "(epoch 42/50) p_real: 0.405893, p_g: 0.298377\n",
      "(epoch 43/50) p_real: 0.693921, p_g: 0.574926\n",
      "(epoch 44/50) p_real: 0.255693, p_g: 0.148109\n",
      "(epoch 45/50) p_real: 0.372993, p_g: 0.355143\n",
      "(epoch 46/50) p_real: 0.116920, p_g: 0.080078\n",
      "(epoch 47/50) p_real: 0.608044, p_g: 0.443986\n",
      "(epoch 48/50) p_real: 0.172313, p_g: 0.081742\n",
      "(epoch 49/50) p_real: 0.112178, p_g: 0.072287\n",
      "(epoch 50/50) p_real: 0.714576, p_g: 0.586302\n"
     ]
    },
    {
     "data": {
      "image/png": "[encoded data removed]",
      "text/plain": [
       "<Figure size 432x288 with 1 Axes>"
      ]
     },
     "metadata": {
      "needs_background": "light"
     },
     "output_type": "display_data"
    }
   ],
   "source": [
    "def init_params(model):\n",
    "    for p in model.parameters():\n",
    "        if(p.dim() > 1):\n",
    "            nn.init.xavier_normal_(p)\n",
    "        else:\n",
    "            nn.init.uniform_(p, 0.1, 0.2)\n",
    "            \n",
    "init_params(G)\n",
    "init_params(D)\n",
    "\n",
    "optimizer_g = optim.Adam(G.parameters(), lr = 0.0002, betas=(0.5, 0.999))\n",
    "optimizer_d = optim.Adam(D.parameters(), lr = 0.0002, betas=(0.5, 0.999))\n",
    "\n",
    "p_real_trace = []\n",
    "p_fake_trace = []\n",
    "\n",
    "epochs = 50 #200\n",
    "for epoch in range(epochs):\n",
    "\n",
    "    run_epoch(G, D, optimizer_g, optimizer_d)\n",
    "    p_real, p_fake = evaluate_model(G,D)\n",
    "\n",
    "    p_real_trace.append(p_real)\n",
    "    p_fake_trace.append(p_fake)\n",
    "\n",
    "    print('(epoch %i/%d) p_real: %f, p_g: %f' % (epoch+1, epochs, p_real, p_fake))\n",
    "    if (epoch+1) % (epochs//5) == 0:\n",
    "        imshow_grid(G(sample_z(16)).view(-1, 1, 28, 28))"
   ]
  },
  {
   "cell_type": "markdown",
   "metadata": {
    "id": "qRDtMXrSicq1"
   },
   "source": [
    "### End training (Linear model Epoch 200)\n",
    "![image.png](data:image/png;base64,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)"
   ]
  },
  {
   "cell_type": "code",
   "execution_count": 66,
   "metadata": {
    "colab": {
     "base_uri": "https://localhost:8080/",
     "height": 265
    },
    "id": "9Ohg4WctidT-",
    "outputId": "c47a3a9c-114b-4ba0-8ab4-5ac123455c3c"
   },
   "outputs": [
    {
     "data": {
      "image/png": "[encoded data removed]",
      "text/plain": [
       "<Figure size 432x288 with 1 Axes>"
      ]
     },
     "metadata": {
      "needs_background": "light"
     },
     "output_type": "display_data"
    }
   ],
   "source": [
    "# Probability Tracing\n",
    "plt.plot(p_fake_trace, label='D(x_generated)')\n",
    "plt.plot(p_real_trace, label='D(x_real)')\n",
    "plt.legend(bbox_to_anchor=(1.05, 1), loc=2, borderaxespad=0.)\n",
    "\n",
    "plt.show()"
   ]
  },
  {
   "cell_type": "code",
   "execution_count": 67,
   "metadata": {
    "id": "I5JTV2u5insi"
   },
   "outputs": [
    {
     "data": {
      "image/png": "[encoded data removed]",
      "text/plain": [
       "<Figure size 432x288 with 1 Axes>"
      ]
     },
     "metadata": {
      "needs_background": "light"
     },
     "output_type": "display_data"
    },
    {
     "data": {
      "image/png": "[encoded data removed]",
      "text/plain": [
       "<Figure size 432x288 with 1 Axes>"
      ]
     },
     "metadata": {
      "needs_background": "light"
     },
     "output_type": "display_data"
    }
   ],
   "source": [
    "# Comparison with real data\n",
    "vis_loader = torch.utils.data.DataLoader(test_data, 16, True)\n",
    "img_vis, label_vis   = next(iter(vis_loader))\n",
    "imshow_grid(img_vis)\n",
    "\n",
    "imshow_grid(G(sample_z(16,100)).view(-1, 1, 28, 28))"
   ]
  },
  {
   "cell_type": "code",
   "execution_count": null,
   "metadata": {
    "id": "vzlTJp9LixnI"
   },
   "outputs": [],
   "source": []
  }
 ],
 "metadata": {
  "accelerator": "GPU",
  "colab": {
   "collapsed_sections": [],
   "name": "5-6_GAN_MNIST.ipynb",
   "provenance": []
  },
  "kernelspec": {
   "display_name": "Python 3 (ipykernel)",
   "language": "python",
   "name": "python3"
  },
  "language_info": {
   "codemirror_mode": {
    "name": "ipython",
    "version": 3
   },
   "file_extension": ".py",
   "mimetype": "text/x-python",
   "name": "python",
   "nbconvert_exporter": "python",
   "pygments_lexer": "ipython3",
   "version": "3.7.13"
  },
  "widgets": {
   "application/vnd.jupyter.widget-state+json": {
    "04ac7978d72d4699a3244c2a44e795fb": {
     "model_module": "@jupyter-widgets/controls",
     "model_module_version": "1.5.0",
     "model_name": "HTMLModel",
     "state": {
      "_dom_classes": [],
      "_model_module": "@jupyter-widgets/controls",
      "_model_module_version": "1.5.0",
      "_model_name": "HTMLModel",
      "_view_count": null,
      "_view_module": "@jupyter-widgets/controls",
      "_view_module_version": "1.5.0",
      "_view_name": "HTMLView",
      "description": "",
      "description_tooltip": null,
      "layout": "IPY_MODEL_ab295badd2cd4425b6c6cbe57dd9c8e7",
      "placeholder": "​",
      "style": "IPY_MODEL_7564299ae33e46d98d7ef508c5766bc5",
      "value": ""
     }
    },
    "0f79a1a91d864ee088e462e0460961d6": {
     "model_module": "@jupyter-widgets/controls",
     "model_module_version": "1.5.0",
     "model_name": "HBoxModel",
     "state": {
      "_dom_classes": [],
      "_model_module": "@jupyter-widgets/controls",
      "_model_module_version": "1.5.0",
      "_model_name": "HBoxModel",
      "_view_count": null,
      "_view_module": "@jupyter-widgets/controls",
      "_view_module_version": "1.5.0",
      "_view_name": "HBoxView",
      "box_style": "",
      "children": [
       "IPY_MODEL_7ce8dd08d43c4eda93217b3afdae03a4",
       "IPY_MODEL_87eae40c27cc4b55bcba7154778690a9",
       "IPY_MODEL_664cda1b769142a0bb8d46eea726c9b2"
      ],
      "layout": "IPY_MODEL_39bee628e81b4b9f88fabfd446b9ba09"
     }
    },
    "1ea3d36b7b424549800bd6197c0275ad": {
     "model_module": "@jupyter-widgets/controls",
     "model_module_version": "1.5.0",
     "model_name": "FloatProgressModel",
     "state": {
      "_dom_classes": [],
      "_model_module": "@jupyter-widgets/controls",
      "_model_module_version": "1.5.0",
      "_model_name": "FloatProgressModel",
      "_view_count": null,
      "_view_module": "@jupyter-widgets/controls",
      "_view_module_version": "1.5.0",
      "_view_name": "ProgressView",
      "bar_style": "success",
      "description": "",
      "description_tooltip": null,
      "layout": "IPY_MODEL_71eae73376d846e6b52b67cfe1bd0c83",
      "max": 9912422,
      "min": 0,
      "orientation": "horizontal",
      "style": "IPY_MODEL_44ede5d6e95445718079843e481657d6",
      "value": 9912422
     }
    },
    "283356ef474e438284c033126ad1a962": {
     "model_module": "@jupyter-widgets/controls",
     "model_module_version": "1.5.0",
     "model_name": "DescriptionStyleModel",
     "state": {
      "_model_module": "@jupyter-widgets/controls",
      "_model_module_version": "1.5.0",
      "_model_name": "DescriptionStyleModel",
      "_view_count": null,
      "_view_module": "@jupyter-widgets/base",
      "_view_module_version": "1.2.0",
      "_view_name": "StyleView",
      "description_width": ""
     }
    },
    "39bee628e81b4b9f88fabfd446b9ba09": {
     "model_module": "@jupyter-widgets/base",
     "model_module_version": "1.2.0",
     "model_name": "LayoutModel",
     "state": {
      "_model_module": "@jupyter-widgets/base",
      "_model_module_version": "1.2.0",
      "_model_name": "LayoutModel",
      "_view_count": null,
      "_view_module": "@jupyter-widgets/base",
      "_view_module_version": "1.2.0",
      "_view_name": "LayoutView",
      "align_content": null,
      "align_items": null,
      "align_self": null,
      "border": null,
      "bottom": null,
      "display": null,
      "flex": null,
      "flex_flow": null,
      "grid_area": null,
      "grid_auto_columns": null,
      "grid_auto_flow": null,
      "grid_auto_rows": null,
      "grid_column": null,
      "grid_gap": null,
      "grid_row": null,
      "grid_template_areas": null,
      "grid_template_columns": null,
      "grid_template_rows": null,
      "height": null,
      "justify_content": null,
      "justify_items": null,
      "left": null,
      "margin": null,
      "max_height": null,
      "max_width": null,
      "min_height": null,
      "min_width": null,
      "object_fit": null,
      "object_position": null,
      "order": null,
      "overflow": null,
      "overflow_x": null,
      "overflow_y": null,
      "padding": null,
      "right": null,
      "top": null,
      "visibility": null,
      "width": null
     }
    },
    "3fe619c98e8846358e8ff52e7811fc67": {
     "model_module": "@jupyter-widgets/base",
     "model_module_version": "1.2.0",
     "model_name": "LayoutModel",
     "state": {
      "_model_module": "@jupyter-widgets/base",
      "_model_module_version": "1.2.0",
      "_model_name": "LayoutModel",
      "_view_count": null,
      "_view_module": "@jupyter-widgets/base",
      "_view_module_version": "1.2.0",
      "_view_name": "LayoutView",
      "align_content": null,
      "align_items": null,
      "align_self": null,
      "border": null,
      "bottom": null,
      "display": null,
      "flex": null,
      "flex_flow": null,
      "grid_area": null,
      "grid_auto_columns": null,
      "grid_auto_flow": null,
      "grid_auto_rows": null,
      "grid_column": null,
      "grid_gap": null,
      "grid_row": null,
      "grid_template_areas": null,
      "grid_template_columns": null,
      "grid_template_rows": null,
      "height": null,
      "justify_content": null,
      "justify_items": null,
      "left": null,
      "margin": null,
      "max_height": null,
      "max_width": null,
      "min_height": null,
      "min_width": null,
      "object_fit": null,
      "object_position": null,
      "order": null,
      "overflow": null,
      "overflow_x": null,
      "overflow_y": null,
      "padding": null,
      "right": null,
      "top": null,
      "visibility": null,
      "width": null
     }
    },
    "409f679cacae4bfc980ae74203ff8423": {
     "model_module": "@jupyter-widgets/base",
     "model_module_version": "1.2.0",
     "model_name": "LayoutModel",
     "state": {
      "_model_module": "@jupyter-widgets/base",
      "_model_module_version": "1.2.0",
      "_model_name": "LayoutModel",
      "_view_count": null,
      "_view_module": "@jupyter-widgets/base",
      "_view_module_version": "1.2.0",
      "_view_name": "LayoutView",
      "align_content": null,
      "align_items": null,
      "align_self": null,
      "border": null,
      "bottom": null,
      "display": null,
      "flex": null,
      "flex_flow": null,
      "grid_area": null,
      "grid_auto_columns": null,
      "grid_auto_flow": null,
      "grid_auto_rows": null,
      "grid_column": null,
      "grid_gap": null,
      "grid_row": null,
      "grid_template_areas": null,
      "grid_template_columns": null,
      "grid_template_rows": null,
      "height": null,
      "justify_content": null,
      "justify_items": null,
      "left": null,
      "margin": null,
      "max_height": null,
      "max_width": null,
      "min_height": null,
      "min_width": null,
      "object_fit": null,
      "object_position": null,
      "order": null,
      "overflow": null,
      "overflow_x": null,
      "overflow_y": null,
      "padding": null,
      "right": null,
      "top": null,
      "visibility": null,
      "width": null
     }
    },
    "44ede5d6e95445718079843e481657d6": {
     "model_module": "@jupyter-widgets/controls",
     "model_module_version": "1.5.0",
     "model_name": "ProgressStyleModel",
     "state": {
      "_model_module": "@jupyter-widgets/controls",
      "_model_module_version": "1.5.0",
      "_model_name": "ProgressStyleModel",
      "_view_count": null,
      "_view_module": "@jupyter-widgets/base",
      "_view_module_version": "1.2.0",
      "_view_name": "StyleView",
      "bar_color": null,
      "description_width": ""
     }
    },
    "4c73e234c8fb4075a50fcedeb744799f": {
     "model_module": "@jupyter-widgets/base",
     "model_module_version": "1.2.0",
     "model_name": "LayoutModel",
     "state": {
      "_model_module": "@jupyter-widgets/base",
      "_model_module_version": "1.2.0",
      "_model_name": "LayoutModel",
      "_view_count": null,
      "_view_module": "@jupyter-widgets/base",
      "_view_module_version": "1.2.0",
      "_view_name": "LayoutView",
      "align_content": null,
      "align_items": null,
      "align_self": null,
      "border": null,
      "bottom": null,
      "display": null,
      "flex": null,
      "flex_flow": null,
      "grid_area": null,
      "grid_auto_columns": null,
      "grid_auto_flow": null,
      "grid_auto_rows": null,
      "grid_column": null,
      "grid_gap": null,
      "grid_row": null,
      "grid_template_areas": null,
      "grid_template_columns": null,
      "grid_template_rows": null,
      "height": null,
      "justify_content": null,
      "justify_items": null,
      "left": null,
      "margin": null,
      "max_height": null,
      "max_width": null,
      "min_height": null,
      "min_width": null,
      "object_fit": null,
      "object_position": null,
      "order": null,
      "overflow": null,
      "overflow_x": null,
      "overflow_y": null,
      "padding": null,
      "right": null,
      "top": null,
      "visibility": null,
      "width": null
     }
    },
    "4f1b73cd22bf40f4a0613fa5f607af4e": {
     "model_module": "@jupyter-widgets/controls",
     "model_module_version": "1.5.0",
     "model_name": "DescriptionStyleModel",
     "state": {
      "_model_module": "@jupyter-widgets/controls",
      "_model_module_version": "1.5.0",
      "_model_name": "DescriptionStyleModel",
      "_view_count": null,
      "_view_module": "@jupyter-widgets/base",
      "_view_module_version": "1.2.0",
      "_view_name": "StyleView",
      "description_width": ""
     }
    },
    "60a85d3f76d34d6bacefa1aab447e8e3": {
     "model_module": "@jupyter-widgets/controls",
     "model_module_version": "1.5.0",
     "model_name": "ProgressStyleModel",
     "state": {
      "_model_module": "@jupyter-widgets/controls",
      "_model_module_version": "1.5.0",
      "_model_name": "ProgressStyleModel",
      "_view_count": null,
      "_view_module": "@jupyter-widgets/base",
      "_view_module_version": "1.2.0",
      "_view_name": "StyleView",
      "bar_color": null,
      "description_width": ""
     }
    },
    "6420492365e94de4899b30cd2cb98d88": {
     "model_module": "@jupyter-widgets/controls",
     "model_module_version": "1.5.0",
     "model_name": "HTMLModel",
     "state": {
      "_dom_classes": [],
      "_model_module": "@jupyter-widgets/controls",
      "_model_module_version": "1.5.0",
      "_model_name": "HTMLModel",
      "_view_count": null,
      "_view_module": "@jupyter-widgets/controls",
      "_view_module_version": "1.5.0",
      "_view_name": "HTMLView",
      "description": "",
      "description_tooltip": null,
      "layout": "IPY_MODEL_68fe8d66efb84fd68f893e01567b1604",
      "placeholder": "​",
      "style": "IPY_MODEL_b85a7b1a6e1a40a78b019470cd501b42",
      "value": " 5120/? [00:00&lt;00:00, 212443.35it/s]"
     }
    },
    "65d11735874f40aea52a4c3151d5c33b": {
     "model_module": "@jupyter-widgets/controls",
     "model_module_version": "1.5.0",
     "model_name": "HTMLModel",
     "state": {
      "_dom_classes": [],
      "_model_module": "@jupyter-widgets/controls",
      "_model_module_version": "1.5.0",
      "_model_name": "HTMLModel",
      "_view_count": null,
      "_view_module": "@jupyter-widgets/controls",
      "_view_module_version": "1.5.0",
      "_view_name": "HTMLView",
      "description": "",
      "description_tooltip": null,
      "layout": "IPY_MODEL_4c73e234c8fb4075a50fcedeb744799f",
      "placeholder": "​",
      "style": "IPY_MODEL_4f1b73cd22bf40f4a0613fa5f607af4e",
      "value": " 29696/? [00:00&lt;00:00, 914675.09it/s]"
     }
    },
    "663136f283844e3ab43f1a729be5c258": {
     "model_module": "@jupyter-widgets/controls",
     "model_module_version": "1.5.0",
     "model_name": "DescriptionStyleModel",
     "state": {
      "_model_module": "@jupyter-widgets/controls",
      "_model_module_version": "1.5.0",
      "_model_name": "DescriptionStyleModel",
      "_view_count": null,
      "_view_module": "@jupyter-widgets/base",
      "_view_module_version": "1.2.0",
      "_view_name": "StyleView",
      "description_width": ""
     }
    },
    "664cda1b769142a0bb8d46eea726c9b2": {
     "model_module": "@jupyter-widgets/controls",
     "model_module_version": "1.5.0",
     "model_name": "HTMLModel",
     "state": {
      "_dom_classes": [],
      "_model_module": "@jupyter-widgets/controls",
      "_model_module_version": "1.5.0",
      "_model_name": "HTMLModel",
      "_view_count": null,
      "_view_module": "@jupyter-widgets/controls",
      "_view_module_version": "1.5.0",
      "_view_name": "HTMLView",
      "description": "",
      "description_tooltip": null,
      "layout": "IPY_MODEL_829cada3779644c8ab789d46e0ebd31f",
      "placeholder": "​",
      "style": "IPY_MODEL_de2311dec36443c1ac3f49f34d602b48",
      "value": " 1649664/? [00:00&lt;00:00, 26471267.72it/s]"
     }
    },
    "68fe8d66efb84fd68f893e01567b1604": {
     "model_module": "@jupyter-widgets/base",
     "model_module_version": "1.2.0",
     "model_name": "LayoutModel",
     "state": {
      "_model_module": "@jupyter-widgets/base",
      "_model_module_version": "1.2.0",
      "_model_name": "LayoutModel",
      "_view_count": null,
      "_view_module": "@jupyter-widgets/base",
      "_view_module_version": "1.2.0",
      "_view_name": "LayoutView",
      "align_content": null,
      "align_items": null,
      "align_self": null,
      "border": null,
      "bottom": null,
      "display": null,
      "flex": null,
      "flex_flow": null,
      "grid_area": null,
      "grid_auto_columns": null,
      "grid_auto_flow": null,
      "grid_auto_rows": null,
      "grid_column": null,
      "grid_gap": null,
      "grid_row": null,
      "grid_template_areas": null,
      "grid_template_columns": null,
      "grid_template_rows": null,
      "height": null,
      "justify_content": null,
      "justify_items": null,
      "left": null,
      "margin": null,
      "max_height": null,
      "max_width": null,
      "min_height": null,
      "min_width": null,
      "object_fit": null,
      "object_position": null,
      "order": null,
      "overflow": null,
      "overflow_x": null,
      "overflow_y": null,
      "padding": null,
      "right": null,
      "top": null,
      "visibility": null,
      "width": null
     }
    },
    "694b77cd3aaf4ce3a157bca7369a9965": {
     "model_module": "@jupyter-widgets/base",
     "model_module_version": "1.2.0",
     "model_name": "LayoutModel",
     "state": {
      "_model_module": "@jupyter-widgets/base",
      "_model_module_version": "1.2.0",
      "_model_name": "LayoutModel",
      "_view_count": null,
      "_view_module": "@jupyter-widgets/base",
      "_view_module_version": "1.2.0",
      "_view_name": "LayoutView",
      "align_content": null,
      "align_items": null,
      "align_self": null,
      "border": null,
      "bottom": null,
      "display": null,
      "flex": null,
      "flex_flow": null,
      "grid_area": null,
      "grid_auto_columns": null,
      "grid_auto_flow": null,
      "grid_auto_rows": null,
      "grid_column": null,
      "grid_gap": null,
      "grid_row": null,
      "grid_template_areas": null,
      "grid_template_columns": null,
      "grid_template_rows": null,
      "height": null,
      "justify_content": null,
      "justify_items": null,
      "left": null,
      "margin": null,
      "max_height": null,
      "max_width": null,
      "min_height": null,
      "min_width": null,
      "object_fit": null,
      "object_position": null,
      "order": null,
      "overflow": null,
      "overflow_x": null,
      "overflow_y": null,
      "padding": null,
      "right": null,
      "top": null,
      "visibility": null,
      "width": null
     }
    },
    "6ccf4e2608f946c48930f047eb5e3997": {
     "model_module": "@jupyter-widgets/base",
     "model_module_version": "1.2.0",
     "model_name": "LayoutModel",
     "state": {
      "_model_module": "@jupyter-widgets/base",
      "_model_module_version": "1.2.0",
      "_model_name": "LayoutModel",
      "_view_count": null,
      "_view_module": "@jupyter-widgets/base",
      "_view_module_version": "1.2.0",
      "_view_name": "LayoutView",
      "align_content": null,
      "align_items": null,
      "align_self": null,
      "border": null,
      "bottom": null,
      "display": null,
      "flex": null,
      "flex_flow": null,
      "grid_area": null,
      "grid_auto_columns": null,
      "grid_auto_flow": null,
      "grid_auto_rows": null,
      "grid_column": null,
      "grid_gap": null,
      "grid_row": null,
      "grid_template_areas": null,
      "grid_template_columns": null,
      "grid_template_rows": null,
      "height": null,
      "justify_content": null,
      "justify_items": null,
      "left": null,
      "margin": null,
      "max_height": null,
      "max_width": null,
      "min_height": null,
      "min_width": null,
      "object_fit": null,
      "object_position": null,
      "order": null,
      "overflow": null,
      "overflow_x": null,
      "overflow_y": null,
      "padding": null,
      "right": null,
      "top": null,
      "visibility": null,
      "width": null
     }
    },
    "6e27a3c3cfae4f498d4f1a5eb5489d2e": {
     "model_module": "@jupyter-widgets/base",
     "model_module_version": "1.2.0",
     "model_name": "LayoutModel",
     "state": {
      "_model_module": "@jupyter-widgets/base",
      "_model_module_version": "1.2.0",
      "_model_name": "LayoutModel",
      "_view_count": null,
      "_view_module": "@jupyter-widgets/base",
      "_view_module_version": "1.2.0",
      "_view_name": "LayoutView",
      "align_content": null,
      "align_items": null,
      "align_self": null,
      "border": null,
      "bottom": null,
      "display": null,
      "flex": null,
      "flex_flow": null,
      "grid_area": null,
      "grid_auto_columns": null,
      "grid_auto_flow": null,
      "grid_auto_rows": null,
      "grid_column": null,
      "grid_gap": null,
      "grid_row": null,
      "grid_template_areas": null,
      "grid_template_columns": null,
      "grid_template_rows": null,
      "height": null,
      "justify_content": null,
      "justify_items": null,
      "left": null,
      "margin": null,
      "max_height": null,
      "max_width": null,
      "min_height": null,
      "min_width": null,
      "object_fit": null,
      "object_position": null,
      "order": null,
      "overflow": null,
      "overflow_x": null,
      "overflow_y": null,
      "padding": null,
      "right": null,
      "top": null,
      "visibility": null,
      "width": null
     }
    },
    "6edcce8f76dc4a61a2706d3c5b5f0f7c": {
     "model_module": "@jupyter-widgets/base",
     "model_module_version": "1.2.0",
     "model_name": "LayoutModel",
     "state": {
      "_model_module": "@jupyter-widgets/base",
      "_model_module_version": "1.2.0",
      "_model_name": "LayoutModel",
      "_view_count": null,
      "_view_module": "@jupyter-widgets/base",
      "_view_module_version": "1.2.0",
      "_view_name": "LayoutView",
      "align_content": null,
      "align_items": null,
      "align_self": null,
      "border": null,
      "bottom": null,
      "display": null,
      "flex": null,
      "flex_flow": null,
      "grid_area": null,
      "grid_auto_columns": null,
      "grid_auto_flow": null,
      "grid_auto_rows": null,
      "grid_column": null,
      "grid_gap": null,
      "grid_row": null,
      "grid_template_areas": null,
      "grid_template_columns": null,
      "grid_template_rows": null,
      "height": null,
      "justify_content": null,
      "justify_items": null,
      "left": null,
      "margin": null,
      "max_height": null,
      "max_width": null,
      "min_height": null,
      "min_width": null,
      "object_fit": null,
      "object_position": null,
      "order": null,
      "overflow": null,
      "overflow_x": null,
      "overflow_y": null,
      "padding": null,
      "right": null,
      "top": null,
      "visibility": null,
      "width": null
     }
    },
    "708630bae00344b2b569ad699821706a": {
     "model_module": "@jupyter-widgets/controls",
     "model_module_version": "1.5.0",
     "model_name": "HBoxModel",
     "state": {
      "_dom_classes": [],
      "_model_module": "@jupyter-widgets/controls",
      "_model_module_version": "1.5.0",
      "_model_name": "HBoxModel",
      "_view_count": null,
      "_view_module": "@jupyter-widgets/controls",
      "_view_module_version": "1.5.0",
      "_view_name": "HBoxView",
      "box_style": "",
      "children": [
       "IPY_MODEL_04ac7978d72d4699a3244c2a44e795fb",
       "IPY_MODEL_cf6a811e46044370a6f2936078ff3096",
       "IPY_MODEL_6420492365e94de4899b30cd2cb98d88"
      ],
      "layout": "IPY_MODEL_8aae688227564c5e9951226d817c7884"
     }
    },
    "71eae73376d846e6b52b67cfe1bd0c83": {
     "model_module": "@jupyter-widgets/base",
     "model_module_version": "1.2.0",
     "model_name": "LayoutModel",
     "state": {
      "_model_module": "@jupyter-widgets/base",
      "_model_module_version": "1.2.0",
      "_model_name": "LayoutModel",
      "_view_count": null,
      "_view_module": "@jupyter-widgets/base",
      "_view_module_version": "1.2.0",
      "_view_name": "LayoutView",
      "align_content": null,
      "align_items": null,
      "align_self": null,
      "border": null,
      "bottom": null,
      "display": null,
      "flex": null,
      "flex_flow": null,
      "grid_area": null,
      "grid_auto_columns": null,
      "grid_auto_flow": null,
      "grid_auto_rows": null,
      "grid_column": null,
      "grid_gap": null,
      "grid_row": null,
      "grid_template_areas": null,
      "grid_template_columns": null,
      "grid_template_rows": null,
      "height": null,
      "justify_content": null,
      "justify_items": null,
      "left": null,
      "margin": null,
      "max_height": null,
      "max_width": null,
      "min_height": null,
      "min_width": null,
      "object_fit": null,
      "object_position": null,
      "order": null,
      "overflow": null,
      "overflow_x": null,
      "overflow_y": null,
      "padding": null,
      "right": null,
      "top": null,
      "visibility": null,
      "width": null
     }
    },
    "7564299ae33e46d98d7ef508c5766bc5": {
     "model_module": "@jupyter-widgets/controls",
     "model_module_version": "1.5.0",
     "model_name": "DescriptionStyleModel",
     "state": {
      "_model_module": "@jupyter-widgets/controls",
      "_model_module_version": "1.5.0",
      "_model_name": "DescriptionStyleModel",
      "_view_count": null,
      "_view_module": "@jupyter-widgets/base",
      "_view_module_version": "1.2.0",
      "_view_name": "StyleView",
      "description_width": ""
     }
    },
    "7ce8dd08d43c4eda93217b3afdae03a4": {
     "model_module": "@jupyter-widgets/controls",
     "model_module_version": "1.5.0",
     "model_name": "HTMLModel",
     "state": {
      "_dom_classes": [],
      "_model_module": "@jupyter-widgets/controls",
      "_model_module_version": "1.5.0",
      "_model_name": "HTMLModel",
      "_view_count": null,
      "_view_module": "@jupyter-widgets/controls",
      "_view_module_version": "1.5.0",
      "_view_name": "HTMLView",
      "description": "",
      "description_tooltip": null,
      "layout": "IPY_MODEL_409f679cacae4bfc980ae74203ff8423",
      "placeholder": "​",
      "style": "IPY_MODEL_bba365077c1c4297af0495425990102e",
      "value": ""
     }
    },
    "829cada3779644c8ab789d46e0ebd31f": {
     "model_module": "@jupyter-widgets/base",
     "model_module_version": "1.2.0",
     "model_name": "LayoutModel",
     "state": {
      "_model_module": "@jupyter-widgets/base",
      "_model_module_version": "1.2.0",
      "_model_name": "LayoutModel",
      "_view_count": null,
      "_view_module": "@jupyter-widgets/base",
      "_view_module_version": "1.2.0",
      "_view_name": "LayoutView",
      "align_content": null,
      "align_items": null,
      "align_self": null,
      "border": null,
      "bottom": null,
      "display": null,
      "flex": null,
      "flex_flow": null,
      "grid_area": null,
      "grid_auto_columns": null,
      "grid_auto_flow": null,
      "grid_auto_rows": null,
      "grid_column": null,
      "grid_gap": null,
      "grid_row": null,
      "grid_template_areas": null,
      "grid_template_columns": null,
      "grid_template_rows": null,
      "height": null,
      "justify_content": null,
      "justify_items": null,
      "left": null,
      "margin": null,
      "max_height": null,
      "max_width": null,
      "min_height": null,
      "min_width": null,
      "object_fit": null,
      "object_position": null,
      "order": null,
      "overflow": null,
      "overflow_x": null,
      "overflow_y": null,
      "padding": null,
      "right": null,
      "top": null,
      "visibility": null,
      "width": null
     }
    },
    "83e9edfc647f4200bdb6eaf1e3eab1a5": {
     "model_module": "@jupyter-widgets/controls",
     "model_module_version": "1.5.0",
     "model_name": "HTMLModel",
     "state": {
      "_dom_classes": [],
      "_model_module": "@jupyter-widgets/controls",
      "_model_module_version": "1.5.0",
      "_model_name": "HTMLModel",
      "_view_count": null,
      "_view_module": "@jupyter-widgets/controls",
      "_view_module_version": "1.5.0",
      "_view_name": "HTMLView",
      "description": "",
      "description_tooltip": null,
      "layout": "IPY_MODEL_6edcce8f76dc4a61a2706d3c5b5f0f7c",
      "placeholder": "​",
      "style": "IPY_MODEL_663136f283844e3ab43f1a729be5c258",
      "value": " 9913344/? [00:00&lt;00:00, 63935724.72it/s]"
     }
    },
    "861a7483d33b4313a11875c70345c76a": {
     "model_module": "@jupyter-widgets/controls",
     "model_module_version": "1.5.0",
     "model_name": "FloatProgressModel",
     "state": {
      "_dom_classes": [],
      "_model_module": "@jupyter-widgets/controls",
      "_model_module_version": "1.5.0",
      "_model_name": "FloatProgressModel",
      "_view_count": null,
      "_view_module": "@jupyter-widgets/controls",
      "_view_module_version": "1.5.0",
      "_view_name": "ProgressView",
      "bar_style": "success",
      "description": "",
      "description_tooltip": null,
      "layout": "IPY_MODEL_9e38581417b24995ba7e2f55432890ae",
      "max": 28881,
      "min": 0,
      "orientation": "horizontal",
      "style": "IPY_MODEL_cc09d18c1ec04de99e4ec7497fb5f872",
      "value": 28881
     }
    },
    "87eae40c27cc4b55bcba7154778690a9": {
     "model_module": "@jupyter-widgets/controls",
     "model_module_version": "1.5.0",
     "model_name": "FloatProgressModel",
     "state": {
      "_dom_classes": [],
      "_model_module": "@jupyter-widgets/controls",
      "_model_module_version": "1.5.0",
      "_model_name": "FloatProgressModel",
      "_view_count": null,
      "_view_module": "@jupyter-widgets/controls",
      "_view_module_version": "1.5.0",
      "_view_name": "ProgressView",
      "bar_style": "success",
      "description": "",
      "description_tooltip": null,
      "layout": "IPY_MODEL_6e27a3c3cfae4f498d4f1a5eb5489d2e",
      "max": 1648877,
      "min": 0,
      "orientation": "horizontal",
      "style": "IPY_MODEL_a9763f6896d444ee9c5a07f6661a5418",
      "value": 1648877
     }
    },
    "8aae688227564c5e9951226d817c7884": {
     "model_module": "@jupyter-widgets/base",
     "model_module_version": "1.2.0",
     "model_name": "LayoutModel",
     "state": {
      "_model_module": "@jupyter-widgets/base",
      "_model_module_version": "1.2.0",
      "_model_name": "LayoutModel",
      "_view_count": null,
      "_view_module": "@jupyter-widgets/base",
      "_view_module_version": "1.2.0",
      "_view_name": "LayoutView",
      "align_content": null,
      "align_items": null,
      "align_self": null,
      "border": null,
      "bottom": null,
      "display": null,
      "flex": null,
      "flex_flow": null,
      "grid_area": null,
      "grid_auto_columns": null,
      "grid_auto_flow": null,
      "grid_auto_rows": null,
      "grid_column": null,
      "grid_gap": null,
      "grid_row": null,
      "grid_template_areas": null,
      "grid_template_columns": null,
      "grid_template_rows": null,
      "height": null,
      "justify_content": null,
      "justify_items": null,
      "left": null,
      "margin": null,
      "max_height": null,
      "max_width": null,
      "min_height": null,
      "min_width": null,
      "object_fit": null,
      "object_position": null,
      "order": null,
      "overflow": null,
      "overflow_x": null,
      "overflow_y": null,
      "padding": null,
      "right": null,
      "top": null,
      "visibility": null,
      "width": null
     }
    },
    "9e38581417b24995ba7e2f55432890ae": {
     "model_module": "@jupyter-widgets/base",
     "model_module_version": "1.2.0",
     "model_name": "LayoutModel",
     "state": {
      "_model_module": "@jupyter-widgets/base",
      "_model_module_version": "1.2.0",
      "_model_name": "LayoutModel",
      "_view_count": null,
      "_view_module": "@jupyter-widgets/base",
      "_view_module_version": "1.2.0",
      "_view_name": "LayoutView",
      "align_content": null,
      "align_items": null,
      "align_self": null,
      "border": null,
      "bottom": null,
      "display": null,
      "flex": null,
      "flex_flow": null,
      "grid_area": null,
      "grid_auto_columns": null,
      "grid_auto_flow": null,
      "grid_auto_rows": null,
      "grid_column": null,
      "grid_gap": null,
      "grid_row": null,
      "grid_template_areas": null,
      "grid_template_columns": null,
      "grid_template_rows": null,
      "height": null,
      "justify_content": null,
      "justify_items": null,
      "left": null,
      "margin": null,
      "max_height": null,
      "max_width": null,
      "min_height": null,
      "min_width": null,
      "object_fit": null,
      "object_position": null,
      "order": null,
      "overflow": null,
      "overflow_x": null,
      "overflow_y": null,
      "padding": null,
      "right": null,
      "top": null,
      "visibility": null,
      "width": null
     }
    },
    "a9763f6896d444ee9c5a07f6661a5418": {
     "model_module": "@jupyter-widgets/controls",
     "model_module_version": "1.5.0",
     "model_name": "ProgressStyleModel",
     "state": {
      "_model_module": "@jupyter-widgets/controls",
      "_model_module_version": "1.5.0",
      "_model_name": "ProgressStyleModel",
      "_view_count": null,
      "_view_module": "@jupyter-widgets/base",
      "_view_module_version": "1.2.0",
      "_view_name": "StyleView",
      "bar_color": null,
      "description_width": ""
     }
    },
    "ab295badd2cd4425b6c6cbe57dd9c8e7": {
     "model_module": "@jupyter-widgets/base",
     "model_module_version": "1.2.0",
     "model_name": "LayoutModel",
     "state": {
      "_model_module": "@jupyter-widgets/base",
      "_model_module_version": "1.2.0",
      "_model_name": "LayoutModel",
      "_view_count": null,
      "_view_module": "@jupyter-widgets/base",
      "_view_module_version": "1.2.0",
      "_view_name": "LayoutView",
      "align_content": null,
      "align_items": null,
      "align_self": null,
      "border": null,
      "bottom": null,
      "display": null,
      "flex": null,
      "flex_flow": null,
      "grid_area": null,
      "grid_auto_columns": null,
      "grid_auto_flow": null,
      "grid_auto_rows": null,
      "grid_column": null,
      "grid_gap": null,
      "grid_row": null,
      "grid_template_areas": null,
      "grid_template_columns": null,
      "grid_template_rows": null,
      "height": null,
      "justify_content": null,
      "justify_items": null,
      "left": null,
      "margin": null,
      "max_height": null,
      "max_width": null,
      "min_height": null,
      "min_width": null,
      "object_fit": null,
      "object_position": null,
      "order": null,
      "overflow": null,
      "overflow_x": null,
      "overflow_y": null,
      "padding": null,
      "right": null,
      "top": null,
      "visibility": null,
      "width": null
     }
    },
    "ab38bdb7258d404dab3b2edbae86988a": {
     "model_module": "@jupyter-widgets/controls",
     "model_module_version": "1.5.0",
     "model_name": "HBoxModel",
     "state": {
      "_dom_classes": [],
      "_model_module": "@jupyter-widgets/controls",
      "_model_module_version": "1.5.0",
      "_model_name": "HBoxModel",
      "_view_count": null,
      "_view_module": "@jupyter-widgets/controls",
      "_view_module_version": "1.5.0",
      "_view_name": "HBoxView",
      "box_style": "",
      "children": [
       "IPY_MODEL_b35bbce48fac49d9ad500d88de81d757",
       "IPY_MODEL_1ea3d36b7b424549800bd6197c0275ad",
       "IPY_MODEL_83e9edfc647f4200bdb6eaf1e3eab1a5"
      ],
      "layout": "IPY_MODEL_3fe619c98e8846358e8ff52e7811fc67"
     }
    },
    "b2a4129d9cc944f9bebcdc8e38d12312": {
     "model_module": "@jupyter-widgets/base",
     "model_module_version": "1.2.0",
     "model_name": "LayoutModel",
     "state": {
      "_model_module": "@jupyter-widgets/base",
      "_model_module_version": "1.2.0",
      "_model_name": "LayoutModel",
      "_view_count": null,
      "_view_module": "@jupyter-widgets/base",
      "_view_module_version": "1.2.0",
      "_view_name": "LayoutView",
      "align_content": null,
      "align_items": null,
      "align_self": null,
      "border": null,
      "bottom": null,
      "display": null,
      "flex": null,
      "flex_flow": null,
      "grid_area": null,
      "grid_auto_columns": null,
      "grid_auto_flow": null,
      "grid_auto_rows": null,
      "grid_column": null,
      "grid_gap": null,
      "grid_row": null,
      "grid_template_areas": null,
      "grid_template_columns": null,
      "grid_template_rows": null,
      "height": null,
      "justify_content": null,
      "justify_items": null,
      "left": null,
      "margin": null,
      "max_height": null,
      "max_width": null,
      "min_height": null,
      "min_width": null,
      "object_fit": null,
      "object_position": null,
      "order": null,
      "overflow": null,
      "overflow_x": null,
      "overflow_y": null,
      "padding": null,
      "right": null,
      "top": null,
      "visibility": null,
      "width": null
     }
    },
    "b35bbce48fac49d9ad500d88de81d757": {
     "model_module": "@jupyter-widgets/controls",
     "model_module_version": "1.5.0",
     "model_name": "HTMLModel",
     "state": {
      "_dom_classes": [],
      "_model_module": "@jupyter-widgets/controls",
      "_model_module_version": "1.5.0",
      "_model_name": "HTMLModel",
      "_view_count": null,
      "_view_module": "@jupyter-widgets/controls",
      "_view_module_version": "1.5.0",
      "_view_name": "HTMLView",
      "description": "",
      "description_tooltip": null,
      "layout": "IPY_MODEL_694b77cd3aaf4ce3a157bca7369a9965",
      "placeholder": "​",
      "style": "IPY_MODEL_283356ef474e438284c033126ad1a962",
      "value": ""
     }
    },
    "b85a7b1a6e1a40a78b019470cd501b42": {
     "model_module": "@jupyter-widgets/controls",
     "model_module_version": "1.5.0",
     "model_name": "DescriptionStyleModel",
     "state": {
      "_model_module": "@jupyter-widgets/controls",
      "_model_module_version": "1.5.0",
      "_model_name": "DescriptionStyleModel",
      "_view_count": null,
      "_view_module": "@jupyter-widgets/base",
      "_view_module_version": "1.2.0",
      "_view_name": "StyleView",
      "description_width": ""
     }
    },
    "bba365077c1c4297af0495425990102e": {
     "model_module": "@jupyter-widgets/controls",
     "model_module_version": "1.5.0",
     "model_name": "DescriptionStyleModel",
     "state": {
      "_model_module": "@jupyter-widgets/controls",
      "_model_module_version": "1.5.0",
      "_model_name": "DescriptionStyleModel",
      "_view_count": null,
      "_view_module": "@jupyter-widgets/base",
      "_view_module_version": "1.2.0",
      "_view_name": "StyleView",
      "description_width": ""
     }
    },
    "bf00801376bc45e9b5d63e1070bac423": {
     "model_module": "@jupyter-widgets/controls",
     "model_module_version": "1.5.0",
     "model_name": "HBoxModel",
     "state": {
      "_dom_classes": [],
      "_model_module": "@jupyter-widgets/controls",
      "_model_module_version": "1.5.0",
      "_model_name": "HBoxModel",
      "_view_count": null,
      "_view_module": "@jupyter-widgets/controls",
      "_view_module_version": "1.5.0",
      "_view_name": "HBoxView",
      "box_style": "",
      "children": [
       "IPY_MODEL_c3b0e7b4aae740398066fadc5982a011",
       "IPY_MODEL_861a7483d33b4313a11875c70345c76a",
       "IPY_MODEL_65d11735874f40aea52a4c3151d5c33b"
      ],
      "layout": "IPY_MODEL_6ccf4e2608f946c48930f047eb5e3997"
     }
    },
    "c3b0e7b4aae740398066fadc5982a011": {
     "model_module": "@jupyter-widgets/controls",
     "model_module_version": "1.5.0",
     "model_name": "HTMLModel",
     "state": {
      "_dom_classes": [],
      "_model_module": "@jupyter-widgets/controls",
      "_model_module_version": "1.5.0",
      "_model_name": "HTMLModel",
      "_view_count": null,
      "_view_module": "@jupyter-widgets/controls",
      "_view_module_version": "1.5.0",
      "_view_name": "HTMLView",
      "description": "",
      "description_tooltip": null,
      "layout": "IPY_MODEL_b2a4129d9cc944f9bebcdc8e38d12312",
      "placeholder": "​",
      "style": "IPY_MODEL_ece0b85f804642f4b2292b70e0fdafb6",
      "value": ""
     }
    },
    "cc09d18c1ec04de99e4ec7497fb5f872": {
     "model_module": "@jupyter-widgets/controls",
     "model_module_version": "1.5.0",
     "model_name": "ProgressStyleModel",
     "state": {
      "_model_module": "@jupyter-widgets/controls",
      "_model_module_version": "1.5.0",
      "_model_name": "ProgressStyleModel",
      "_view_count": null,
      "_view_module": "@jupyter-widgets/base",
      "_view_module_version": "1.2.0",
      "_view_name": "StyleView",
      "bar_color": null,
      "description_width": ""
     }
    },
    "cf6a811e46044370a6f2936078ff3096": {
     "model_module": "@jupyter-widgets/controls",
     "model_module_version": "1.5.0",
     "model_name": "FloatProgressModel",
     "state": {
      "_dom_classes": [],
      "_model_module": "@jupyter-widgets/controls",
      "_model_module_version": "1.5.0",
      "_model_name": "FloatProgressModel",
      "_view_count": null,
      "_view_module": "@jupyter-widgets/controls",
      "_view_module_version": "1.5.0",
      "_view_name": "ProgressView",
      "bar_style": "success",
      "description": "",
      "description_tooltip": null,
      "layout": "IPY_MODEL_e20447cdc0c040b5bf61eb80ef36d810",
      "max": 4542,
      "min": 0,
      "orientation": "horizontal",
      "style": "IPY_MODEL_60a85d3f76d34d6bacefa1aab447e8e3",
      "value": 4542
     }
    },
    "de2311dec36443c1ac3f49f34d602b48": {
     "model_module": "@jupyter-widgets/controls",
     "model_module_version": "1.5.0",
     "model_name": "DescriptionStyleModel",
     "state": {
      "_model_module": "@jupyter-widgets/controls",
      "_model_module_version": "1.5.0",
      "_model_name": "DescriptionStyleModel",
      "_view_count": null,
      "_view_module": "@jupyter-widgets/base",
      "_view_module_version": "1.2.0",
      "_view_name": "StyleView",
      "description_width": ""
     }
    },
    "e20447cdc0c040b5bf61eb80ef36d810": {
     "model_module": "@jupyter-widgets/base",
     "model_module_version": "1.2.0",
     "model_name": "LayoutModel",
     "state": {
      "_model_module": "@jupyter-widgets/base",
      "_model_module_version": "1.2.0",
      "_model_name": "LayoutModel",
      "_view_count": null,
      "_view_module": "@jupyter-widgets/base",
      "_view_module_version": "1.2.0",
      "_view_name": "LayoutView",
      "align_content": null,
      "align_items": null,
      "align_self": null,
      "border": null,
      "bottom": null,
      "display": null,
      "flex": null,
      "flex_flow": null,
      "grid_area": null,
      "grid_auto_columns": null,
      "grid_auto_flow": null,
      "grid_auto_rows": null,
      "grid_column": null,
      "grid_gap": null,
      "grid_row": null,
      "grid_template_areas": null,
      "grid_template_columns": null,
      "grid_template_rows": null,
      "height": null,
      "justify_content": null,
      "justify_items": null,
      "left": null,
      "margin": null,
      "max_height": null,
      "max_width": null,
      "min_height": null,
      "min_width": null,
      "object_fit": null,
      "object_position": null,
      "order": null,
      "overflow": null,
      "overflow_x": null,
      "overflow_y": null,
      "padding": null,
      "right": null,
      "top": null,
      "visibility": null,
      "width": null
     }
    },
    "ece0b85f804642f4b2292b70e0fdafb6": {
     "model_module": "@jupyter-widgets/controls",
     "model_module_version": "1.5.0",
     "model_name": "DescriptionStyleModel",
     "state": {
      "_model_module": "@jupyter-widgets/controls",
      "_model_module_version": "1.5.0",
      "_model_name": "DescriptionStyleModel",
      "_view_count": null,
      "_view_module": "@jupyter-widgets/base",
      "_view_module_version": "1.2.0",
      "_view_name": "StyleView",
      "description_width": ""
     }
    }
   }
  }
 },
 "nbformat": 4,
 "nbformat_minor": 1
}
